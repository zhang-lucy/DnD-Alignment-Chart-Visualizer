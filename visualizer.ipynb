{
 "cells": [
  {
   "cell_type": "code",
   "execution_count": 1,
   "metadata": {},
   "outputs": [],
   "source": [
    "import pandas as pd\n",
    "from sklearn.utils import shuffle\n",
    "import numpy as np\n",
    "import matplotlib.pyplot as plt"
   ]
  },
  {
   "cell_type": "code",
   "execution_count": 2,
   "metadata": {},
   "outputs": [],
   "source": [
    "\"\"\" Instructions: Replace the path variable to point to your CSV file. See the last cell \n",
    "to update the df_columns variable to optimize layout\"\"\"\n",
    "\n",
    "# replace with your path\n",
    "path = \"alignment.csv\""
   ]
  },
  {
   "cell_type": "code",
   "execution_count": 3,
   "metadata": {},
   "outputs": [],
   "source": [
    "def getName(string):\n",
    "    \"\"\"Google forms will format the names as `Align yourself[name]`, \n",
    "    or whatever your question header is\"\"\"\n",
    "    tokens = string.split(\"[\")\n",
    "    return tokens[-1][:-1]"
   ]
  },
  {
   "cell_type": "code",
   "execution_count": 4,
   "metadata": {},
   "outputs": [],
   "source": [
    "df = pd.read_csv(path).drop(columns=[\"Timestamp\"])\n",
    "df = shuffle(df)\n",
    "df = df.reset_index(drop=True)\n",
    "for col in df.columns:\n",
    "    column = getName(col)\n",
    "    df[column] = df[col]\n",
    "    df = df.drop(columns=[col])"
   ]
  },
  {
   "cell_type": "code",
   "execution_count": 5,
   "metadata": {},
   "outputs": [
    {
     "data": {
      "text/html": [
       "<div>\n",
       "<style scoped>\n",
       "    .dataframe tbody tr th:only-of-type {\n",
       "        vertical-align: middle;\n",
       "    }\n",
       "\n",
       "    .dataframe tbody tr th {\n",
       "        vertical-align: top;\n",
       "    }\n",
       "\n",
       "    .dataframe thead th {\n",
       "        text-align: right;\n",
       "    }\n",
       "</style>\n",
       "<table border=\"1\" class=\"dataframe\">\n",
       "  <thead>\n",
       "    <tr style=\"text-align: right;\">\n",
       "      <th></th>\n",
       "      <th>Amy</th>\n",
       "      <th>Bert</th>\n",
       "      <th>Chan</th>\n",
       "      <th>Dan</th>\n",
       "      <th>Eggbert</th>\n",
       "      <th>Fan</th>\n",
       "      <th>Gary</th>\n",
       "      <th>Hermione</th>\n",
       "      <th>Ilah</th>\n",
       "    </tr>\n",
       "  </thead>\n",
       "  <tbody>\n",
       "    <tr>\n",
       "      <th>0</th>\n",
       "      <td>chaotic evil</td>\n",
       "      <td>neutral evil</td>\n",
       "      <td>lawful evil</td>\n",
       "      <td>true neutral</td>\n",
       "      <td>chaotic neutral</td>\n",
       "      <td>lawful neutral</td>\n",
       "      <td>chaotic good</td>\n",
       "      <td>neutral good</td>\n",
       "      <td>lawful good</td>\n",
       "    </tr>\n",
       "    <tr>\n",
       "      <th>1</th>\n",
       "      <td>neutral evil</td>\n",
       "      <td>lawful neutral</td>\n",
       "      <td>chaotic evil</td>\n",
       "      <td>neutral good</td>\n",
       "      <td>lawful evil</td>\n",
       "      <td>true neutral</td>\n",
       "      <td>chaotic good</td>\n",
       "      <td>chaotic neutral</td>\n",
       "      <td>lawful good</td>\n",
       "    </tr>\n",
       "    <tr>\n",
       "      <th>2</th>\n",
       "      <td>chaotic neutral</td>\n",
       "      <td>neutral good</td>\n",
       "      <td>chaotic good</td>\n",
       "      <td>lawful evil</td>\n",
       "      <td>neutral evil</td>\n",
       "      <td>lawful neutral</td>\n",
       "      <td>true neutral</td>\n",
       "      <td>chaotic evil</td>\n",
       "      <td>lawful good</td>\n",
       "    </tr>\n",
       "    <tr>\n",
       "      <th>3</th>\n",
       "      <td>lawful neutral</td>\n",
       "      <td>chaotic good</td>\n",
       "      <td>neutral evil</td>\n",
       "      <td>true neutral</td>\n",
       "      <td>chaotic neutral</td>\n",
       "      <td>neutral good</td>\n",
       "      <td>chaotic evil</td>\n",
       "      <td>lawful evil</td>\n",
       "      <td>lawful good</td>\n",
       "    </tr>\n",
       "    <tr>\n",
       "      <th>4</th>\n",
       "      <td>chaotic good</td>\n",
       "      <td>neutral good</td>\n",
       "      <td>true neutral</td>\n",
       "      <td>lawful evil</td>\n",
       "      <td>neutral evil</td>\n",
       "      <td>lawful neutral</td>\n",
       "      <td>chaotic neutral</td>\n",
       "      <td>chaotic evil</td>\n",
       "      <td>lawful good</td>\n",
       "    </tr>\n",
       "    <tr>\n",
       "      <th>5</th>\n",
       "      <td>chaotic evil</td>\n",
       "      <td>true neutral</td>\n",
       "      <td>lawful evil</td>\n",
       "      <td>neutral good</td>\n",
       "      <td>lawful neutral</td>\n",
       "      <td>neutral evil</td>\n",
       "      <td>chaotic neutral</td>\n",
       "      <td>chaotic good</td>\n",
       "      <td>lawful good</td>\n",
       "    </tr>\n",
       "    <tr>\n",
       "      <th>6</th>\n",
       "      <td>lawful evil</td>\n",
       "      <td>neutral good</td>\n",
       "      <td>lawful good</td>\n",
       "      <td>true neutral</td>\n",
       "      <td>chaotic good</td>\n",
       "      <td>chaotic neutral</td>\n",
       "      <td>chaotic evil</td>\n",
       "      <td>neutral evil</td>\n",
       "      <td>lawful neutral</td>\n",
       "    </tr>\n",
       "  </tbody>\n",
       "</table>\n",
       "</div>"
      ],
      "text/plain": [
       "               Amy            Bert          Chan           Dan  \\\n",
       "0     chaotic evil    neutral evil   lawful evil  true neutral   \n",
       "1     neutral evil  lawful neutral  chaotic evil  neutral good   \n",
       "2  chaotic neutral    neutral good  chaotic good   lawful evil   \n",
       "3   lawful neutral    chaotic good  neutral evil  true neutral   \n",
       "4     chaotic good    neutral good  true neutral   lawful evil   \n",
       "5     chaotic evil    true neutral   lawful evil  neutral good   \n",
       "6      lawful evil    neutral good   lawful good  true neutral   \n",
       "\n",
       "           Eggbert              Fan             Gary         Hermione  \\\n",
       "0  chaotic neutral   lawful neutral     chaotic good     neutral good   \n",
       "1      lawful evil     true neutral     chaotic good  chaotic neutral   \n",
       "2     neutral evil   lawful neutral     true neutral     chaotic evil   \n",
       "3  chaotic neutral     neutral good     chaotic evil      lawful evil   \n",
       "4     neutral evil   lawful neutral  chaotic neutral     chaotic evil   \n",
       "5   lawful neutral     neutral evil  chaotic neutral     chaotic good   \n",
       "6     chaotic good  chaotic neutral     chaotic evil     neutral evil   \n",
       "\n",
       "             Ilah  \n",
       "0     lawful good  \n",
       "1     lawful good  \n",
       "2     lawful good  \n",
       "3     lawful good  \n",
       "4     lawful good  \n",
       "5     lawful good  \n",
       "6  lawful neutral  "
      ]
     },
     "execution_count": 5,
     "metadata": {},
     "output_type": "execute_result"
    }
   ],
   "source": [
    "df"
   ]
  },
  {
   "cell_type": "code",
   "execution_count": 6,
   "metadata": {},
   "outputs": [],
   "source": [
    "categories = np.array([[\"lawful good\", \"neutral good\", \"chaotic good\"],\n",
    "             [\"lawful neutral\", \"true neutral\", \"chaotic neutral\"],\n",
    "             [\"lawful evil\", \"neutral evil\", \"chaotic evil\"]])"
   ]
  },
  {
   "cell_type": "code",
   "execution_count": 7,
   "metadata": {},
   "outputs": [],
   "source": [
    "def get_indices(category):\n",
    "    \"\"\"For any category such as `lawful neutral`, finds the index\n",
    "    in which it's located in the categories matrix\"\"\"\n",
    "    for i in range(categories.shape[0]):\n",
    "        for j in range(categories.shape[1]):\n",
    "            if categories[i,j] == category:\n",
    "                return i,j\n",
    "    return -1\n",
    "\n",
    "def get_matrix(categories_list):\n",
    "    \"\"\"Given a person's categories, gets the matrix representation\"\"\"\n",
    "    a = np.zeros((3,3))\n",
    "    for string in categories_list:\n",
    "        indices = get_indices(string)\n",
    "        a[indices] += 1\n",
    "    return a"
   ]
  },
  {
   "cell_type": "code",
   "execution_count": 8,
   "metadata": {},
   "outputs": [
    {
     "name": "stdout",
     "output_type": "stream",
     "text": [
      "Amy\n",
      "[[0. 0. 1.]\n",
      " [1. 0. 1.]\n",
      " [1. 1. 2.]]\n",
      "Bert\n",
      "[[0. 3. 1.]\n",
      " [1. 1. 0.]\n",
      " [0. 1. 0.]]\n",
      "Chan\n",
      "[[1. 0. 1.]\n",
      " [0. 1. 0.]\n",
      " [2. 1. 1.]]\n",
      "Dan\n",
      "[[0. 2. 0.]\n",
      " [0. 3. 0.]\n",
      " [2. 0. 0.]]\n",
      "Eggbert\n",
      "[[0. 0. 1.]\n",
      " [1. 0. 2.]\n",
      " [1. 2. 0.]]\n",
      "Fan\n",
      "[[0. 1. 0.]\n",
      " [3. 1. 1.]\n",
      " [0. 1. 0.]]\n",
      "Gary\n",
      "[[0. 0. 2.]\n",
      " [0. 1. 2.]\n",
      " [0. 0. 2.]]\n",
      "Hermione\n",
      "[[0. 1. 1.]\n",
      " [0. 0. 1.]\n",
      " [1. 1. 2.]]\n",
      "Ilah\n",
      "[[6. 0. 0.]\n",
      " [1. 0. 0.]\n",
      " [0. 0. 0.]]\n"
     ]
    }
   ],
   "source": [
    "verbose = True\n",
    "\n",
    "mats = {}\n",
    "for col in df.columns:\n",
    "    matrix = get_matrix(list(df[col]))\n",
    "    mats[col] = matrix\n",
    "    if verbose:\n",
    "        print(col)\n",
    "        print(matrix)\n"
   ]
  },
  {
   "cell_type": "code",
   "execution_count": 12,
   "metadata": {
    "scrolled": false
   },
   "outputs": [
    {
     "name": "stdout",
     "output_type": "stream",
     "text": [
      "[['lawful good' 'neutral good' 'chaotic good']\n",
      " ['lawful neutral' 'true neutral' 'chaotic neutral']\n",
      " ['lawful evil' 'neutral evil' 'chaotic evil']]\n"
     ]
    },
    {
     "data": {
      "image/png": "[encoded data removed]",
      "text/plain": [
       "<Figure size 720x864 with 9 Axes>"
      ]
     },
     "metadata": {
      "needs_background": "light"
     },
     "output_type": "display_data"
    }
   ],
   "source": [
    "df_columns = None\n",
    "# Set df_columns to your desired ordering, example below. Replace with corresponding names\n",
    "# df_columns = ['Ilah', 'Bert', 'Gary', 'Fan', 'Dan', 'Eggbert', 'Chan', 'Amy', 'Hermione']\n",
    "\n",
    "fig, ax = plt.subplots(3,3,figsize=(10,12))\n",
    "p = 0\n",
    "print(categories)\n",
    "for i in range(3):\n",
    "    for j in range(3):\n",
    "        if df_columns:\n",
    "            person = df_columns[p]\n",
    "        else:\n",
    "            person = df.columns[p]\n",
    "        ax[i,j].matshow(mats[person], cmap=plt.cm.gray_r)\n",
    "        ax[i]\n",
    "        ax[i,j].set_title(person)\n",
    "        p+=1\n",
    "plt.show()"
   ]
  },
  {
   "cell_type": "code",
   "execution_count": null,
   "metadata": {},
   "outputs": [],
   "source": []
  },
  {
   "cell_type": "code",
   "execution_count": null,
   "metadata": {},
   "outputs": [],
   "source": []
  }
 ],
 "metadata": {
  "kernelspec": {
   "display_name": "Python 3",
   "language": "python",
   "name": "python3"
  },
  "language_info": {
   "codemirror_mode": {
    "name": "ipython",
    "version": 3
   },
   "file_extension": ".py",
   "mimetype": "text/x-python",
   "name": "python",
   "nbconvert_exporter": "python",
   "pygments_lexer": "ipython3",
   "version": "3.7.3"
  }
 },
 "nbformat": 4,
 "nbformat_minor": 4
}
