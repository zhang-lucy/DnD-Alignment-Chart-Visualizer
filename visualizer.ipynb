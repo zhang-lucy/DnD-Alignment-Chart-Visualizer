{
 "cells": [
  {
   "cell_type": "code",
   "execution_count": 1,
   "metadata": {},
   "outputs": [],
   "source": [
    "import pandas as pd\n",
    "from sklearn.utils import shuffle\n",
    "import numpy as np\n",
    "import matplotlib.pyplot as plt"
   ]
  },
  {
   "cell_type": "code",
   "execution_count": 2,
   "metadata": {},
   "outputs": [],
   "source": [
    "a = np.array([[\"lawaful gowod\", \"neuwutrul gowod\", \"chaowotic gowod\"],\n",
    "             [\"lawafuwul nuwutrul\", \"twuwue nuwutrul\", \"chaowotic nuwutrul\"],\n",
    "             [\"lawafuwul evil\", \"neuwutrul evil\", \"chaowotic evil\"]])"
   ]
  },
  {
   "cell_type": "code",
   "execution_count": 3,
   "metadata": {},
   "outputs": [],
   "source": []
  },
  {
   "cell_type": "code",
   "execution_count": 4,
   "metadata": {},
   "outputs": [],
   "source": [
    "path = \"/Users/t-luczha/Downloads/mts.csv\""
   ]
  },
  {
   "cell_type": "code",
   "execution_count": 5,
   "metadata": {},
   "outputs": [],
   "source": [
    "df=pd.read_csv(path).drop(columns=[\"Timestamp\"])\n",
    "df=shuffle(df)\n",
    "df = df.reset_index()\n",
    "for col in df.columns:\n",
    "    column = col[18:-1]\n",
    "    df[column] = df[col]\n",
    "    df = df.drop(columns=[col])"
   ]
  },
  {
   "cell_type": "code",
   "execution_count": 6,
   "metadata": {},
   "outputs": [
    {
     "data": {
      "text/html": [
       "<div>\n",
       "<style scoped>\n",
       "    .dataframe tbody tr th:only-of-type {\n",
       "        vertical-align: middle;\n",
       "    }\n",
       "\n",
       "    .dataframe tbody tr th {\n",
       "        vertical-align: top;\n",
       "    }\n",
       "\n",
       "    .dataframe thead th {\n",
       "        text-align: right;\n",
       "    }\n",
       "</style>\n",
       "<table border=\"1\" class=\"dataframe\">\n",
       "  <thead>\n",
       "    <tr style=\"text-align: right;\">\n",
       "      <th></th>\n",
       "      <th></th>\n",
       "      <th>ewic</th>\n",
       "      <th>mwakenwa</th>\n",
       "      <th>kwan</th>\n",
       "      <th>swanid</th>\n",
       "      <th>showon</th>\n",
       "      <th>arjuwun</th>\n",
       "      <th>wachie</th>\n",
       "      <th>luwucy</th>\n",
       "      <th>dewwick</th>\n",
       "    </tr>\n",
       "  </thead>\n",
       "  <tbody>\n",
       "    <tr>\n",
       "      <th>0</th>\n",
       "      <td>5</td>\n",
       "      <td>chaowotic gowod</td>\n",
       "      <td>neuwutrul gowod</td>\n",
       "      <td>twuwue nuwutrul</td>\n",
       "      <td>lawafuwul evil</td>\n",
       "      <td>neuwutrul evil</td>\n",
       "      <td>lawafuwul nuwutrul</td>\n",
       "      <td>chaowotic nuwutrul</td>\n",
       "      <td>chaowotic evil</td>\n",
       "      <td>lawaful gowod</td>\n",
       "    </tr>\n",
       "    <tr>\n",
       "      <th>1</th>\n",
       "      <td>6</td>\n",
       "      <td>chaowotic nuwutrul</td>\n",
       "      <td>neuwutrul gowod</td>\n",
       "      <td>chaowotic gowod</td>\n",
       "      <td>lawafuwul evil</td>\n",
       "      <td>neuwutrul evil</td>\n",
       "      <td>lawafuwul nuwutrul</td>\n",
       "      <td>twuwue nuwutrul</td>\n",
       "      <td>chaowotic evil</td>\n",
       "      <td>lawaful gowod</td>\n",
       "    </tr>\n",
       "    <tr>\n",
       "      <th>2</th>\n",
       "      <td>7</td>\n",
       "      <td>lawafuwul nuwutrul</td>\n",
       "      <td>lawaful gowod</td>\n",
       "      <td>twuwue nuwutrul</td>\n",
       "      <td>chaowotic evil</td>\n",
       "      <td>chaowotic nuwutrul</td>\n",
       "      <td>neuwutrul evil</td>\n",
       "      <td>chaowotic gowod</td>\n",
       "      <td>neuwutrul gowod</td>\n",
       "      <td>lawafuwul evil</td>\n",
       "    </tr>\n",
       "    <tr>\n",
       "      <th>3</th>\n",
       "      <td>1</td>\n",
       "      <td>chaowotic evil</td>\n",
       "      <td>twuwue nuwutrul</td>\n",
       "      <td>lawafuwul evil</td>\n",
       "      <td>neuwutrul gowod</td>\n",
       "      <td>lawafuwul nuwutrul</td>\n",
       "      <td>neuwutrul evil</td>\n",
       "      <td>chaowotic nuwutrul</td>\n",
       "      <td>chaowotic gowod</td>\n",
       "      <td>lawaful gowod</td>\n",
       "    </tr>\n",
       "    <tr>\n",
       "      <th>4</th>\n",
       "      <td>2</td>\n",
       "      <td>lawafuwul evil</td>\n",
       "      <td>neuwutrul gowod</td>\n",
       "      <td>lawaful gowod</td>\n",
       "      <td>twuwue nuwutrul</td>\n",
       "      <td>chaowotic gowod</td>\n",
       "      <td>chaowotic nuwutrul</td>\n",
       "      <td>chaowotic evil</td>\n",
       "      <td>neuwutrul evil</td>\n",
       "      <td>lawafuwul nuwutrul</td>\n",
       "    </tr>\n",
       "    <tr>\n",
       "      <th>5</th>\n",
       "      <td>4</td>\n",
       "      <td>lawafuwul nuwutrul</td>\n",
       "      <td>chaowotic gowod</td>\n",
       "      <td>neuwutrul evil</td>\n",
       "      <td>twuwue nuwutrul</td>\n",
       "      <td>chaowotic nuwutrul</td>\n",
       "      <td>neuwutrul gowod</td>\n",
       "      <td>chaowotic evil</td>\n",
       "      <td>lawafuwul evil</td>\n",
       "      <td>lawaful gowod</td>\n",
       "    </tr>\n",
       "    <tr>\n",
       "      <th>6</th>\n",
       "      <td>3</td>\n",
       "      <td>chaowotic evil</td>\n",
       "      <td>neuwutrul evil</td>\n",
       "      <td>lawafuwul evil</td>\n",
       "      <td>twuwue nuwutrul</td>\n",
       "      <td>chaowotic nuwutrul</td>\n",
       "      <td>lawafuwul nuwutrul</td>\n",
       "      <td>chaowotic gowod</td>\n",
       "      <td>neuwutrul gowod</td>\n",
       "      <td>lawaful gowod</td>\n",
       "    </tr>\n",
       "    <tr>\n",
       "      <th>7</th>\n",
       "      <td>0</td>\n",
       "      <td>neuwutrul evil</td>\n",
       "      <td>lawafuwul nuwutrul</td>\n",
       "      <td>chaowotic evil</td>\n",
       "      <td>neuwutrul gowod</td>\n",
       "      <td>lawafuwul evil</td>\n",
       "      <td>twuwue nuwutrul</td>\n",
       "      <td>chaowotic gowod</td>\n",
       "      <td>chaowotic nuwutrul</td>\n",
       "      <td>lawaful gowod</td>\n",
       "    </tr>\n",
       "  </tbody>\n",
       "</table>\n",
       "</div>"
      ],
      "text/plain": [
       "                    ewic            mwakenwa             kwan  \\\n",
       "0  5     chaowotic gowod     neuwutrul gowod  twuwue nuwutrul   \n",
       "1  6  chaowotic nuwutrul     neuwutrul gowod  chaowotic gowod   \n",
       "2  7  lawafuwul nuwutrul       lawaful gowod  twuwue nuwutrul   \n",
       "3  1      chaowotic evil     twuwue nuwutrul   lawafuwul evil   \n",
       "4  2      lawafuwul evil     neuwutrul gowod    lawaful gowod   \n",
       "5  4  lawafuwul nuwutrul     chaowotic gowod   neuwutrul evil   \n",
       "6  3      chaowotic evil      neuwutrul evil   lawafuwul evil   \n",
       "7  0      neuwutrul evil  lawafuwul nuwutrul   chaowotic evil   \n",
       "\n",
       "            swanid              showon             arjuwun  \\\n",
       "0   lawafuwul evil      neuwutrul evil  lawafuwul nuwutrul   \n",
       "1   lawafuwul evil      neuwutrul evil  lawafuwul nuwutrul   \n",
       "2   chaowotic evil  chaowotic nuwutrul      neuwutrul evil   \n",
       "3  neuwutrul gowod  lawafuwul nuwutrul      neuwutrul evil   \n",
       "4  twuwue nuwutrul     chaowotic gowod  chaowotic nuwutrul   \n",
       "5  twuwue nuwutrul  chaowotic nuwutrul     neuwutrul gowod   \n",
       "6  twuwue nuwutrul  chaowotic nuwutrul  lawafuwul nuwutrul   \n",
       "7  neuwutrul gowod      lawafuwul evil     twuwue nuwutrul   \n",
       "\n",
       "               wachie              luwucy             dewwick  \n",
       "0  chaowotic nuwutrul      chaowotic evil       lawaful gowod  \n",
       "1     twuwue nuwutrul      chaowotic evil       lawaful gowod  \n",
       "2     chaowotic gowod     neuwutrul gowod      lawafuwul evil  \n",
       "3  chaowotic nuwutrul     chaowotic gowod       lawaful gowod  \n",
       "4      chaowotic evil      neuwutrul evil  lawafuwul nuwutrul  \n",
       "5      chaowotic evil      lawafuwul evil       lawaful gowod  \n",
       "6     chaowotic gowod     neuwutrul gowod       lawaful gowod  \n",
       "7     chaowotic gowod  chaowotic nuwutrul       lawaful gowod  "
      ]
     },
     "execution_count": 6,
     "metadata": {},
     "output_type": "execute_result"
    }
   ],
   "source": [
    "df"
   ]
  },
  {
   "cell_type": "code",
   "execution_count": 7,
   "metadata": {},
   "outputs": [],
   "source": [
    "def get_indices(string):\n",
    "    for i in range(a.shape[0]):\n",
    "        for j in range(a.shape[1]):\n",
    "            if a[i,j] == string:\n",
    "                return i,j\n",
    "    return -1\n",
    "\n",
    "def get_matrix(string_list):\n",
    "    a = np.zeros((3,3))\n",
    "    for string in string_list:\n",
    "        indices = get_indices(string)\n",
    "        a[indices] += 1\n",
    "    return a"
   ]
  },
  {
   "cell_type": "code",
   "execution_count": 8,
   "metadata": {},
   "outputs": [
    {
     "name": "stdout",
     "output_type": "stream",
     "text": [
      "\n",
      "[[0. 0. 0.]\n",
      " [0. 0. 0.]\n",
      " [8. 8. 8.]]\n",
      "ewic\n",
      "[[0. 0. 1.]\n",
      " [2. 0. 1.]\n",
      " [1. 1. 2.]]\n",
      "mwakenwa\n",
      "[[1. 3. 1.]\n",
      " [1. 1. 0.]\n",
      " [0. 1. 0.]]\n",
      "kwan\n",
      "[[1. 0. 1.]\n",
      " [0. 2. 0.]\n",
      " [2. 1. 1.]]\n",
      "swanid\n",
      "[[0. 2. 0.]\n",
      " [0. 3. 0.]\n",
      " [2. 0. 1.]]\n",
      "showon\n",
      "[[0. 0. 1.]\n",
      " [1. 0. 3.]\n",
      " [1. 2. 0.]]\n",
      "arjuwun\n",
      "[[0. 1. 0.]\n",
      " [3. 1. 1.]\n",
      " [0. 2. 0.]]\n",
      "wachie\n",
      "[[0. 0. 3.]\n",
      " [0. 1. 2.]\n",
      " [0. 0. 2.]]\n",
      "luwucy\n",
      "[[0. 2. 1.]\n",
      " [0. 0. 1.]\n",
      " [1. 1. 2.]]\n",
      "dewwick\n",
      "[[6. 0. 0.]\n",
      " [1. 0. 0.]\n",
      " [1. 0. 0.]]\n"
     ]
    }
   ],
   "source": [
    "mats = {}\n",
    "for col in df.columns:\n",
    "    matrix = get_matrix(list(df[col]))\n",
    "    mats[col] = matrix\n",
    "    print(col)\n",
    "    print(matrix)\n"
   ]
  },
  {
   "cell_type": "code",
   "execution_count": 9,
   "metadata": {
    "scrolled": false
   },
   "outputs": [
    {
     "name": "stdout",
     "output_type": "stream",
     "text": [
      "[['lawaful gowod' 'neuwutrul gowod' 'chaowotic gowod']\n",
      " ['lawafuwul nuwutrul' 'twuwue nuwutrul' 'chaowotic nuwutrul']\n",
      " ['lawafuwul evil' 'neuwutrul evil' 'chaowotic evil']]\n"
     ]
    },
    {
     "data": {
      "image/png": "[encoded data removed]",
      "text/plain": [
       "<Figure size 864x864 with 9 Axes>"
      ]
     },
     "metadata": {
      "needs_background": "light"
     },
     "output_type": "display_data"
    }
   ],
   "source": [
    "fig, ax = plt.subplots(3,3,figsize=(12,12))\n",
    "p = 0\n",
    "print(a)\n",
    "df_columns = [\"dewwick\", \"mwakenwa\", \"wachie\", \"arjuwun\", \"swanid\", \"ewic\", \"kwan\", \"showon\", \"luwucy\"]\n",
    "for i in range(3):\n",
    "    for j in range(3):\n",
    "        person = df_columns[p]\n",
    "        ax[i,j].matshow(mats[person], cmap=plt.cm.gray_r)\n",
    "        ax[i,j].set_title(person)\n",
    "        p+=1\n",
    "plt.show()"
   ]
  },
  {
   "cell_type": "code",
   "execution_count": null,
   "metadata": {},
   "outputs": [],
   "source": []
  },
  {
   "cell_type": "code",
   "execution_count": null,
   "metadata": {},
   "outputs": [],
   "source": []
  }
 ],
 "metadata": {
  "kernelspec": {
   "display_name": "Python 3",
   "language": "python",
   "name": "python3"
  },
  "language_info": {
   "codemirror_mode": {
    "name": "ipython",
    "version": 3
   },
   "file_extension": ".py",
   "mimetype": "text/x-python",
   "name": "python",
   "nbconvert_exporter": "python",
   "pygments_lexer": "ipython3",
   "version": "3.7.7"
  }
 },
 "nbformat": 4,
 "nbformat_minor": 4
}
